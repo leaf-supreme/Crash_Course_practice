{
 "cells": [
  {
   "cell_type": "markdown",
   "metadata": {},
   "source": [
    "# ***Python Practice Document ***\n",
    "## this will save useful data and code as I go though the learning process\n",
    "Starting on Dataquest (https://app.dataquest.io/dashboard/)\n",
    "\n",
    "where to begin....."
   ]
  },
  {
   "cell_type": "code",
   "execution_count": 2,
   "metadata": {},
   "outputs": [
    {
     "name": "stdout",
     "output_type": "stream",
     "text": [
      "['USD', 2974676, 3.5] ['USD', 522012]\n",
      "[['Clash of Clans', 0.0, 'USD', 2130805, 4.5], ['Fruit Ninja Classic', 1.99, 'USD', 698516, 4.5], ['Minecraft: Pocket Edition', 6.99, 'USD', 522012, 4.5]]\n",
      "4.3\n",
      "4.3\n",
      "2974676\n",
      "2161558\n",
      "2130805\n",
      "698516\n",
      "522012\n",
      "2974676\n",
      "5136234\n",
      "7267039\n",
      "7965555\n",
      "8487567\n",
      "8487567\n",
      "4.3\n"
     ]
    }
   ],
   "source": [
    "row_1 = ['Facebook', 0.0, 'USD', 2974676, 3.5]\n",
    "row_2 = ['Instagram', 0.0, 'USD', 2161558, 4.5]\n",
    "row_3 = ['Clash of Clans', 0.0, 'USD', 2130805, 4.5]\n",
    "row_4 = ['Fruit Ninja Classic', 1.99, 'USD', 698516, 4.5]\n",
    "row_5 = ['Minecraft: Pocket Edition', 6.99, 'USD', 522012, 4.5]\n",
    "last_3_fb = row_1[2:6]\n",
    "minecraft_3_4 = row_5[2:4]\n",
    "print(last_3_fb, minecraft_3_4)\n",
    "#list of lists to consolodate more\n",
    "game_apps = [row_3, row_4, row_5]\n",
    "print(game_apps)\n",
    "\n",
    "# to access the last of the list, not in the way the program wanted though\n",
    "app_data_set = [row_1, row_2, row_3, row_4, row_5]\n",
    "last_items = [l[-1] for l in app_data_set]\n",
    "sum_app_rating = sum(last_items)\n",
    "length_app_list = int(len(app_data_set))\n",
    "avg_rating = sum_app_rating/length_app_list\n",
    "print(avg_rating)\n",
    "\n",
    "#the answer that worked\n",
    "rating = (app_data_set[0][-1] + app_data_set[1][-1] + app_data_set[2][-1] + app_data_set[3][-1] + app_data_set[4][-1])\n",
    "list_length = int(len(app_data_set))\n",
    "avg_raating = rating/list_length\n",
    "print(avg_rating)\n",
    "\n",
    "#using a for loop\n",
    "for element in app_data_set:\n",
    "    rating_count = element[-2]\n",
    "    print(rating_count)\n",
    "\n",
    "# add all of the total ratings using For Loop\n",
    "rating_sum = 0\n",
    "for rating_count in app_data_set:\n",
    "    rating_count = rating_count[-2]\n",
    "    rating_sum = rating_count + rating_sum\n",
    "    print(rating_sum)\n",
    "print(rating_sum)\n",
    "\n",
    "# for avg rating\n",
    "app_data_set = [row_1, row_2, row_3, row_4, row_5]\n",
    "rating_sum = 0\n",
    "for rating in app_data_set:\n",
    "    rating = rating[-1]\n",
    "    rating_sum = rating + rating_sum\n",
    "app_rating_len = len(app_data_set)\n",
    "avg_rating = rating_sum/app_rating_len\n",
    "print(avg_rating)"
   ]
  },
  {
   "cell_type": "code",
   "execution_count": 3,
   "metadata": {},
   "outputs": [
    {
     "ename": "FileNotFoundError",
     "evalue": "[Errno 2] No such file or directory: 'AppleStore.csv'",
     "output_type": "error",
     "traceback": [
      "\u001b[1;31m---------------------------------------------------------------------------\u001b[0m",
      "\u001b[1;31mFileNotFoundError\u001b[0m                         Traceback (most recent call last)",
      "Cell \u001b[1;32mIn[3], line 3\u001b[0m\n\u001b[0;32m      1\u001b[0m \u001b[38;5;66;03m# opening a large data set\u001b[39;00m\n\u001b[0;32m      2\u001b[0m \u001b[38;5;28;01mfrom\u001b[39;00m \u001b[38;5;21;01mcsv\u001b[39;00m \u001b[38;5;28;01mimport\u001b[39;00m reader\n\u001b[1;32m----> 3\u001b[0m opened_file \u001b[38;5;241m=\u001b[39m \u001b[38;5;28;43mopen\u001b[39;49m\u001b[43m(\u001b[49m\u001b[38;5;124;43m'\u001b[39;49m\u001b[38;5;124;43mAppleStore.csv\u001b[39;49m\u001b[38;5;124;43m'\u001b[39;49m\u001b[43m)\u001b[49m\n\u001b[0;32m      4\u001b[0m read_file \u001b[38;5;241m=\u001b[39m reader(opened_file)\n\u001b[0;32m      5\u001b[0m apps_data \u001b[38;5;241m=\u001b[39m \u001b[38;5;28mlist\u001b[39m(read_file)\n",
      "File \u001b[1;32mc:\\Users\\kylem\\AppData\\Local\\Programs\\Python\\Python312\\Lib\\site-packages\\IPython\\core\\interactiveshell.py:324\u001b[0m, in \u001b[0;36m_modified_open\u001b[1;34m(file, *args, **kwargs)\u001b[0m\n\u001b[0;32m    317\u001b[0m \u001b[38;5;28;01mif\u001b[39;00m file \u001b[38;5;129;01min\u001b[39;00m {\u001b[38;5;241m0\u001b[39m, \u001b[38;5;241m1\u001b[39m, \u001b[38;5;241m2\u001b[39m}:\n\u001b[0;32m    318\u001b[0m     \u001b[38;5;28;01mraise\u001b[39;00m \u001b[38;5;167;01mValueError\u001b[39;00m(\n\u001b[0;32m    319\u001b[0m         \u001b[38;5;124mf\u001b[39m\u001b[38;5;124m\"\u001b[39m\u001b[38;5;124mIPython won\u001b[39m\u001b[38;5;124m'\u001b[39m\u001b[38;5;124mt let you open fd=\u001b[39m\u001b[38;5;132;01m{\u001b[39;00mfile\u001b[38;5;132;01m}\u001b[39;00m\u001b[38;5;124m by default \u001b[39m\u001b[38;5;124m\"\u001b[39m\n\u001b[0;32m    320\u001b[0m         \u001b[38;5;124m\"\u001b[39m\u001b[38;5;124mas it is likely to crash IPython. If you know what you are doing, \u001b[39m\u001b[38;5;124m\"\u001b[39m\n\u001b[0;32m    321\u001b[0m         \u001b[38;5;124m\"\u001b[39m\u001b[38;5;124myou can use builtins\u001b[39m\u001b[38;5;124m'\u001b[39m\u001b[38;5;124m open.\u001b[39m\u001b[38;5;124m\"\u001b[39m\n\u001b[0;32m    322\u001b[0m     )\n\u001b[1;32m--> 324\u001b[0m \u001b[38;5;28;01mreturn\u001b[39;00m \u001b[43mio_open\u001b[49m\u001b[43m(\u001b[49m\u001b[43mfile\u001b[49m\u001b[43m,\u001b[49m\u001b[43m \u001b[49m\u001b[38;5;241;43m*\u001b[39;49m\u001b[43margs\u001b[49m\u001b[43m,\u001b[49m\u001b[43m \u001b[49m\u001b[38;5;241;43m*\u001b[39;49m\u001b[38;5;241;43m*\u001b[39;49m\u001b[43mkwargs\u001b[49m\u001b[43m)\u001b[49m\n",
      "\u001b[1;31mFileNotFoundError\u001b[0m: [Errno 2] No such file or directory: 'AppleStore.csv'"
     ]
    }
   ],
   "source": [
    "# opening a large data set\n",
    "\n",
    "from csv import reader\n",
    "opened_file = open('AppleStore.csv')\n",
    "read_file = reader(opened_file)\n",
    "apps_data = list(read_file)\n",
    "\n",
    "print(len(apps_data))\n",
    "print(apps_data[0])\n",
    "print(apps_data[1:3])\n",
    "\n",
    "rating_sum = 0\n",
    "for row in apps_data[1:]:\n",
    "    rating = float(row[7])\n",
    "    rating_sum += rating\n",
    "\n",
    "rating_len = len(apps_data[1:])\n",
    "avg_rating = rating_sum/rating_len\n",
    "\n",
    "print(avg_rating)\n",
    "\n",
    "#The final code for avg_rating of large data set\n",
    "opened_file = open('AppleStore.csv')\n",
    "from csv import reader\n",
    "read_file = reader(opened_file)\n",
    "apps_data = list(read_file)\n",
    "\n",
    "rating_sum = []\n",
    "for row in apps_data[1:]:\n",
    "    rating = float(row[7])\n",
    "    rating_sum.append(rating)\n",
    "#print(rating_sum)\n",
    "avg_rating = sum(rating_sum) / len(rating_sum)\n",
    "print(avg_rating)\n"
   ]
  }
 ],
 "metadata": {
  "kernelspec": {
   "display_name": "Python 3",
   "language": "python",
   "name": "python3"
  },
  "language_info": {
   "codemirror_mode": {
    "name": "ipython",
    "version": 3
   },
   "file_extension": ".py",
   "mimetype": "text/x-python",
   "name": "python",
   "nbconvert_exporter": "python",
   "pygments_lexer": "ipython3",
   "version": "3.12.3"
  }
 },
 "nbformat": 4,
 "nbformat_minor": 2
}
