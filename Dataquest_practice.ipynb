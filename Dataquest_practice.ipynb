{
 "cells": [
  {
   "cell_type": "markdown",
   "metadata": {},
   "source": [
    "# ***Python Practice Document ***\n",
    "## this will save useful data and code as I go though the learning process\n",
    "Starting on Dataquest (https://app.dataquest.io/dashboard/)\n",
    "\n",
    "where to begin....."
   ]
  },
  {
   "cell_type": "code",
   "execution_count": 2,
   "metadata": {},
   "outputs": [
    {
     "name": "stdout",
     "output_type": "stream",
     "text": [
      "['USD', 2974676, 3.5] ['USD', 522012]\n",
      "[['Clash of Clans', 0.0, 'USD', 2130805, 4.5], ['Fruit Ninja Classic', 1.99, 'USD', 698516, 4.5], ['Minecraft: Pocket Edition', 6.99, 'USD', 522012, 4.5]]\n",
      "4.3\n",
      "4.3\n",
      "2974676\n",
      "2161558\n",
      "2130805\n",
      "698516\n",
      "522012\n",
      "2974676\n",
      "5136234\n",
      "7267039\n",
      "7965555\n",
      "8487567\n",
      "8487567\n",
      "4.3\n"
     ]
    }
   ],
   "source": [
    "row_1 = ['Facebook', 0.0, 'USD', 2974676, 3.5]\n",
    "row_2 = ['Instagram', 0.0, 'USD', 2161558, 4.5]\n",
    "row_3 = ['Clash of Clans', 0.0, 'USD', 2130805, 4.5]\n",
    "row_4 = ['Fruit Ninja Classic', 1.99, 'USD', 698516, 4.5]\n",
    "row_5 = ['Minecraft: Pocket Edition', 6.99, 'USD', 522012, 4.5]\n",
    "last_3_fb = row_1[2:6]\n",
    "minecraft_3_4 = row_5[2:4]\n",
    "print(last_3_fb, minecraft_3_4)\n",
    "#list of lists to consolodate more\n",
    "game_apps = [row_3, row_4, row_5]\n",
    "print(game_apps)\n",
    "\n",
    "# to access the last of the list, not in the way the program wanted though\n",
    "app_data_set = [row_1, row_2, row_3, row_4, row_5]\n",
    "last_items = [l[-1] for l in app_data_set]\n",
    "sum_app_rating = sum(last_items)\n",
    "length_app_list = int(len(app_data_set))\n",
    "avg_rating = sum_app_rating/length_app_list\n",
    "print(avg_rating)\n",
    "\n",
    "#the answer that worked\n",
    "rating = (app_data_set[0][-1] + app_data_set[1][-1] + app_data_set[2][-1] + app_data_set[3][-1] + app_data_set[4][-1])\n",
    "list_length = int(len(app_data_set))\n",
    "avg_raating = rating/list_length\n",
    "print(avg_rating)\n",
    "\n",
    "#using a for loop\n",
    "for element in app_data_set:\n",
    "    rating_count = element[-2]\n",
    "    print(rating_count)\n",
    "\n",
    "# add all of the total ratings using For Loop\n",
    "rating_sum = 0\n",
    "for rating_count in app_data_set:\n",
    "    rating_count = rating_count[-2]\n",
    "    rating_sum = rating_count + rating_sum\n",
    "    print(rating_sum)\n",
    "print(rating_sum)\n",
    "\n",
    "# for avg rating\n",
    "app_data_set = [row_1, row_2, row_3, row_4, row_5]\n",
    "rating_sum = 0\n",
    "for rating in app_data_set:\n",
    "    rating = rating[-1]\n",
    "    rating_sum = rating + rating_sum\n",
    "app_rating_len = len(app_data_set)\n",
    "avg_rating = rating_sum/app_rating_len\n",
    "print(avg_rating)"
   ]
  },
  {
   "cell_type": "code",
   "execution_count": 14,
   "metadata": {},
   "outputs": [
    {
     "ename": "TypeError",
     "evalue": "'_csv.reader' object is not callable",
     "output_type": "error",
     "traceback": [
      "\u001b[1;31m---------------------------------------------------------------------------\u001b[0m",
      "\u001b[1;31mTypeError\u001b[0m                                 Traceback (most recent call last)",
      "Cell \u001b[1;32mIn[14], line 4\u001b[0m\n\u001b[0;32m      2\u001b[0m \u001b[38;5;28;01mimport\u001b[39;00m \u001b[38;5;21;01mcsv\u001b[39;00m\n\u001b[0;32m      3\u001b[0m opened_file \u001b[38;5;241m=\u001b[39m \u001b[38;5;28mopen\u001b[39m(\u001b[38;5;124m'\u001b[39m\u001b[38;5;124mAppleStore.csv\u001b[39m\u001b[38;5;124m'\u001b[39m, errors\u001b[38;5;241m=\u001b[39m\u001b[38;5;124m'\u001b[39m\u001b[38;5;124mignore\u001b[39m\u001b[38;5;124m'\u001b[39m)\n\u001b[1;32m----> 4\u001b[0m read_file \u001b[38;5;241m=\u001b[39m \u001b[43mreader\u001b[49m\u001b[43m(\u001b[49m\u001b[43mopened_file\u001b[49m\u001b[43m)\u001b[49m\n\u001b[0;32m      5\u001b[0m apps_data \u001b[38;5;241m=\u001b[39m \u001b[38;5;28mlist\u001b[39m(read_file)\n\u001b[0;32m      6\u001b[0m \u001b[38;5;28mprint\u001b[39m(apps_data[\u001b[38;5;241m2\u001b[39m:\u001b[38;5;241m5\u001b[39m])\n",
      "\u001b[1;31mTypeError\u001b[0m: '_csv.reader' object is not callable"
     ]
    }
   ],
   "source": [
    "# opening a large data set\n",
    "from csv import reader\n",
    "opened_file = open('AppleStore.csv')\n",
    "read_file = reader(opened_file)\n",
    "apps_data = list(read_file)\n",
    "print(apps_data[2:5])\n",
    "\n",
    "\n",
    "#print(rating_sum)\n",
    "avg_rating = sum(rating_sum) / len(rating_sum)\n",
    "print(avg_rating)\n",
    "print(len(apps_data))\n",
    "print(apps_data[0])\n",
    "print(apps_data[1:3])\n",
    "\n",
    "rating_sum = 0\n",
    "for row in apps_data[1:]:\n",
    "    rating = float(row[7])\n",
    "    rating_sum += rating\n",
    "\n",
    "rating_len = len(apps_data[1:])\n",
    "avg_rating = rating_sum/rating_len\n",
    "\n",
    "print(avg_rating)\n",
    "\n",
    "#The final code for avg_rating of large data set\n",
    "opened_file = open('AppleStore.csv')\n",
    "from csv import reader\n",
    "read_file = reader(opened_file)\n",
    "apps_data = list(read_file)\n",
    "\n",
    "rating_sum = []\n",
    "for row in apps_data[1:]:\n",
    "    rating = float(row[7])\n",
    "    rating_sum.append(rating)\n",
    "#print(rating_sum)\n",
    "avg_rating = sum(rating_sum) / len(rating_sum)\n",
    "print(avg_rating)\n"
   ]
  }
 ],
 "metadata": {
  "kernelspec": {
   "display_name": "Python 3",
   "language": "python",
   "name": "python3"
  },
  "language_info": {
   "codemirror_mode": {
    "name": "ipython",
    "version": 3
   },
   "file_extension": ".py",
   "mimetype": "text/x-python",
   "name": "python",
   "nbconvert_exporter": "python",
   "pygments_lexer": "ipython3",
   "version": "3.12.3"
  }
 },
 "nbformat": 4,
 "nbformat_minor": 2
}
